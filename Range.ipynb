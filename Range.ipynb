{
 "cells": [
  {
   "cell_type": "markdown",
   "id": "b39dd78d",
   "metadata": {},
   "source": [
    "# Range"
   ]
  },
  {
   "cell_type": "markdown",
   "id": "bd680b6a",
   "metadata": {},
   "source": [
    "- range\n",
    "- range in list\n",
    "- range manupulation / step size\n",
    "- for loop application in range\n",
    "- for loop iteration in range (Odd & Even Number)\n",
    "- count the odd & even number from a range"
   ]
  },
  {
   "cell_type": "code",
   "execution_count": 1,
   "id": "f6ea7e33",
   "metadata": {},
   "outputs": [
    {
     "data": {
      "text/plain": [
       "range(0, 10)"
      ]
     },
     "execution_count": 1,
     "metadata": {},
     "output_type": "execute_result"
    }
   ],
   "source": [
    "range(10)  # print upto 10"
   ]
  },
  {
   "cell_type": "code",
   "execution_count": 2,
   "id": "9d64219a",
   "metadata": {},
   "outputs": [
    {
     "data": {
      "text/plain": [
       "range(5, 10)"
      ]
     },
     "execution_count": 2,
     "metadata": {},
     "output_type": "execute_result"
    }
   ],
   "source": [
    "range(5,10)"
   ]
  },
  {
   "cell_type": "markdown",
   "id": "efb61e81",
   "metadata": {},
   "source": [
    "### print a range lika a list up 3 to 10"
   ]
  },
  {
   "cell_type": "code",
   "execution_count": 3,
   "id": "d794000d",
   "metadata": {},
   "outputs": [
    {
     "data": {
      "text/plain": [
       "[3, 4, 5, 6, 7, 8, 9, 10]"
      ]
     },
     "execution_count": 3,
     "metadata": {},
     "output_type": "execute_result"
    }
   ],
   "source": [
    "lr = list(range(3,11))\n",
    "lr"
   ]
  },
  {
   "cell_type": "markdown",
   "id": "bca36461",
   "metadata": {},
   "source": [
    "### print a list for a range up to 10"
   ]
  },
  {
   "cell_type": "code",
   "execution_count": 5,
   "id": "73d95dbe",
   "metadata": {},
   "outputs": [
    {
     "data": {
      "text/plain": [
       "[0, 1, 2, 3, 4, 5, 6, 7, 8, 9, 10]"
      ]
     },
     "execution_count": 5,
     "metadata": {},
     "output_type": "execute_result"
    }
   ],
   "source": [
    "lr_1 = list(range(11))\n",
    "lr_1"
   ]
  },
  {
   "cell_type": "markdown",
   "id": "4a527370",
   "metadata": {},
   "source": [
    "### Print a list for a range 50 to 65"
   ]
  },
  {
   "cell_type": "code",
   "execution_count": 6,
   "id": "4387b6c3",
   "metadata": {},
   "outputs": [
    {
     "data": {
      "text/plain": [
       "[50, 51, 52, 53, 54, 55, 56, 57, 58, 59, 60, 61, 62, 63, 64, 65]"
      ]
     },
     "execution_count": 6,
     "metadata": {},
     "output_type": "execute_result"
    }
   ],
   "source": [
    "lr_2 = list(range(50,66))\n",
    "lr_2"
   ]
  },
  {
   "cell_type": "markdown",
   "id": "ea8b5290",
   "metadata": {},
   "source": [
    "### Range manupulate by step size/ jump value"
   ]
  },
  {
   "cell_type": "code",
   "execution_count": 7,
   "id": "d0dd8bf5",
   "metadata": {},
   "outputs": [
    {
     "data": {
      "text/plain": [
       "[2, 4, 6, 8, 10, 12, 14, 16, 18]"
      ]
     },
     "execution_count": 7,
     "metadata": {},
     "output_type": "execute_result"
    }
   ],
   "source": [
    "lr_3 = list(range(2,20,2))\n",
    "lr_3"
   ]
  },
  {
   "cell_type": "markdown",
   "id": "f8981447",
   "metadata": {},
   "source": [
    "### Print all EVEN number for the range 1 to 50"
   ]
  },
  {
   "cell_type": "code",
   "execution_count": 9,
   "id": "82d6860f",
   "metadata": {},
   "outputs": [
    {
     "name": "stdout",
     "output_type": "stream",
     "text": [
      "2,4,6,8,10,12,14,16,18,20,22,24,26,28,30,32,34,36,38,40,42,44,46,48,50,"
     ]
    }
   ],
   "source": [
    "for n in range(2,51,2):\n",
    "    print(n, end=',')"
   ]
  },
  {
   "cell_type": "markdown",
   "id": "10c46dd1",
   "metadata": {},
   "source": [
    "### Print all ODD number for the range 1 to 50"
   ]
  },
  {
   "cell_type": "code",
   "execution_count": 10,
   "id": "d85d4e91",
   "metadata": {},
   "outputs": [
    {
     "name": "stdout",
     "output_type": "stream",
     "text": [
      "1,3,5,7,9,11,13,15,17,19,21,23,25,27,29,31,33,35,37,39,41,43,45,47,49,"
     ]
    }
   ],
   "source": [
    "for n in range(1,51,2):\n",
    "    print(n, end=',')"
   ]
  },
  {
   "cell_type": "markdown",
   "id": "8624ab35",
   "metadata": {},
   "source": [
    "### For loop iteration in range 1 - 50  || Even Number"
   ]
  },
  {
   "cell_type": "code",
   "execution_count": 11,
   "id": "3da759a8",
   "metadata": {},
   "outputs": [
    {
     "name": "stdout",
     "output_type": "stream",
     "text": [
      "0,2,4,6,8,10,12,14,16,18,20,22,24,26,28,30,32,34,36,38,40,42,44,46,48,"
     ]
    }
   ],
   "source": [
    "for n in range(50):\n",
    "    if n%2 ==0:\n",
    "        print(n, end=',')"
   ]
  },
  {
   "cell_type": "code",
   "execution_count": 12,
   "id": "e14d2ab8",
   "metadata": {},
   "outputs": [
    {
     "name": "stdout",
     "output_type": "stream",
     "text": [
      "2,4,6,8,10,12,14,16,18,20,22,24,26,28,30,32,34,36,38,40,42,44,46,48,"
     ]
    }
   ],
   "source": [
    "for n in range(1,50):  # avoid ZERO to print\n",
    "    if n%2==0:\n",
    "        print(n, end=',')"
   ]
  },
  {
   "cell_type": "markdown",
   "id": "41d413ee",
   "metadata": {},
   "source": [
    "### For loop iteration in range 1 - 50 || Odd Number"
   ]
  },
  {
   "cell_type": "code",
   "execution_count": 13,
   "id": "51d4a957",
   "metadata": {},
   "outputs": [
    {
     "name": "stdout",
     "output_type": "stream",
     "text": [
      "1,3,5,7,9,11,13,15,17,19,21,23,25,27,29,31,33,35,37,39,41,43,45,47,49,"
     ]
    }
   ],
   "source": [
    "for n in range(50):\n",
    "    if n%2 !=0:\n",
    "        print(n, end=',')"
   ]
  },
  {
   "cell_type": "markdown",
   "id": "bd639367",
   "metadata": {},
   "source": [
    "### Count the Odd & Even Number from a range (1,50)"
   ]
  },
  {
   "cell_type": "code",
   "execution_count": 14,
   "id": "836e762f",
   "metadata": {},
   "outputs": [
    {
     "name": "stdout",
     "output_type": "stream",
     "text": [
      "Even 24\n",
      "Odd 25\n"
     ]
    }
   ],
   "source": [
    "even = 0\n",
    "odd = 0\n",
    "\n",
    "for n in range(1,50):\n",
    "    if n%2 ==0:\n",
    "        even = even+1\n",
    "    else:\n",
    "        odd = odd+1\n",
    "        \n",
    "print(f'Even {even}')       \n",
    "print(f'Odd {odd}')"
   ]
  },
  {
   "cell_type": "code",
   "execution_count": 15,
   "id": "ddf5b0d9",
   "metadata": {},
   "outputs": [
    {
     "name": "stdout",
     "output_type": "stream",
     "text": [
      "EVEN 24\n",
      "ODD 25\n"
     ]
    }
   ],
   "source": [
    "# alternaive Method 2\n",
    "even = 0\n",
    "odd = 0\n",
    "\n",
    "for i in range(1,50):\n",
    "    if i%2 ==0:\n",
    "        even += 1            \n",
    "    else:\n",
    "        odd  += 1\n",
    "        \n",
    "print( f'EVEN {even}')\n",
    "print( f'ODD {odd}')"
   ]
  },
  {
   "cell_type": "code",
   "execution_count": 16,
   "id": "c56b9b94",
   "metadata": {},
   "outputs": [
    {
     "name": "stdout",
     "output_type": "stream",
     "text": [
      "ODD 25\n",
      "EVEN 24\n"
     ]
    }
   ],
   "source": [
    "# alternaive Method 3\n",
    "\n",
    "odd = 0\n",
    "even = 0\n",
    "\n",
    "for i in range(1,50):\n",
    "    if i%2 != 0:\n",
    "        odd += 1            \n",
    "    else:\n",
    "        even  += 1\n",
    "        \n",
    "print( f'ODD {odd}')\n",
    "print( f'EVEN {even}')"
   ]
  }
 ],
 "metadata": {
  "kernelspec": {
   "display_name": "Python 3 (ipykernel)",
   "language": "python",
   "name": "python3"
  },
  "language_info": {
   "codemirror_mode": {
    "name": "ipython",
    "version": 3
   },
   "file_extension": ".py",
   "mimetype": "text/x-python",
   "name": "python",
   "nbconvert_exporter": "python",
   "pygments_lexer": "ipython3",
   "version": "3.9.7"
  }
 },
 "nbformat": 4,
 "nbformat_minor": 5
}
