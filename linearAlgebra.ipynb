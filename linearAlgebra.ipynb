{
 "cells": [
  {
   "cell_type": "code",
   "execution_count": 1,
   "metadata": {},
   "outputs": [
    {
     "name": "stdout",
     "output_type": "stream",
     "text": [
      "Requirement already satisfied: numpy in c:\\programdata\\anaconda3\\lib\\site-packages (1.24.3)\n"
     ]
    }
   ],
   "source": [
    "! pip install numpy\n",
    "import numpy as np"
   ]
  },
  {
   "cell_type": "markdown",
   "metadata": {},
   "source": [
    "# Linear Algebra\n",
    "`The Branch of Mathmatics that deals with the system of Linear Equations, matrices, vector spaces and linear transformations`"
   ]
  },
  {
   "cell_type": "markdown",
   "metadata": {},
   "source": [
    "## Vector - \n",
    "**_*`A vector is a quantity which has both magnitude (values) and direction (-  or + ;  0,0).`*_**\n",
    "****\n",
    "\n",
    "$$ Row Vector = \\begin{bmatrix} 3 & 2 & -1 \\end{bmatrix} $$\n",
    "\n",
    "$$ Column Vector = \\begin{bmatrix} 3\\\\ 2 \\\\ -1 \\end{bmatrix} $$"
   ]
  },
  {
   "cell_type": "code",
   "execution_count": 2,
   "metadata": {},
   "outputs": [
    {
     "data": {
      "text/plain": [
       "array([1, 2, 3, 4, 5, 6, 7])"
      ]
     },
     "execution_count": 2,
     "metadata": {},
     "output_type": "execute_result"
    }
   ],
   "source": [
    "# Row Vector - Target/Output\n",
    "np.arange(1, 8)"
   ]
  },
  {
   "cell_type": "code",
   "execution_count": 3,
   "metadata": {},
   "outputs": [
    {
     "data": {
      "text/plain": [
       "array([[1],\n",
       "       [2],\n",
       "       [3],\n",
       "       [4],\n",
       "       [5],\n",
       "       [6],\n",
       "       [7]])"
      ]
     },
     "execution_count": 3,
     "metadata": {},
     "output_type": "execute_result"
    }
   ],
   "source": [
    "# Column Vector - Features/ Observatoin \n",
    "np.arange(1, 8).reshape(-1, 1)"
   ]
  },
  {
   "cell_type": "code",
   "execution_count": 4,
   "metadata": {},
   "outputs": [
    {
     "data": {
      "text/plain": [
       "array([ 1,  2,  3,  4,  5,  6,  7,  8,  9, 10, 11, 12, 13, 14])"
      ]
     },
     "execution_count": 4,
     "metadata": {},
     "output_type": "execute_result"
    }
   ],
   "source": [
    "l1 = np.arange(1, 15)\n",
    "l1\n"
   ]
  },
  {
   "cell_type": "code",
   "execution_count": 5,
   "metadata": {},
   "outputs": [
    {
     "data": {
      "text/plain": [
       "array([[ 1],\n",
       "       [ 2],\n",
       "       [ 3],\n",
       "       [ 4],\n",
       "       [ 5],\n",
       "       [ 6],\n",
       "       [ 7],\n",
       "       [ 8],\n",
       "       [ 9],\n",
       "       [10],\n",
       "       [11],\n",
       "       [12],\n",
       "       [13],\n",
       "       [14]])"
      ]
     },
     "execution_count": 5,
     "metadata": {},
     "output_type": "execute_result"
    }
   ],
   "source": [
    "l1.reshape(-1, 1)"
   ]
  },
  {
   "cell_type": "code",
   "execution_count": 6,
   "metadata": {},
   "outputs": [
    {
     "data": {
      "text/plain": [
       "array([ 1,  2,  3,  4,  5,  6,  7,  8,  9, 10, 11, 12, 13, 14])"
      ]
     },
     "execution_count": 6,
     "metadata": {},
     "output_type": "execute_result"
    }
   ],
   "source": [
    "l1.T  # Reshape or Transpose    "
   ]
  },
  {
   "cell_type": "markdown",
   "metadata": {},
   "source": [
    "## Vector Ops - \n",
    "**_*`A vector is a quantity which has both magnitude and direction.`*_**\n",
    "****\n",
    "| Operation | X | Y | Output |\n",
    "| :-------- | ---: | ::--- | ----::|\n",
    "| <b>Vector Adition</b> | $$ x = \\begin{bmatrix} 3 \\\\ 2 \\\\ 1 \\end{bmatrix} $$ | $$ y = \\begin{bmatrix} 5 \\\\ 3 \\\\ 0 \\end{bmatrix}$$ | $$ output = \\begin{bmatrix} 3 + 5 \\\\ 2 + 3 \\\\ 1 + 0 \\end{bmatrix}= \\begin{bmatrix} 8 \\\\ 5 \\\\ 1 \\end{bmatrix} $$ |\n",
    "| <b> Vector Subtraction </b> | $$ x = \\begin{bmatrix} 3 \\\\ 2 \\\\ 1 \\end{bmatrix} $$ | $$ y = \\begin{bmatrix} 5 \\\\ 3 \\\\ 0 \\end{bmatrix}$$ | $$ output = \\begin{bmatrix} 3 - 5 \\\\ 2 - 3 \\\\ 1 - 0 \\end{bmatrix}= \\begin{bmatrix} -2 \\\\ -1 \\\\ 1 \\end{bmatrix} $$ |\n",
    "| <b> Vector Multiplication </b> | $$ x = \\begin{bmatrix} 3 \\\\ 2 \\\\ 1 \\end{bmatrix} $$ | $$ y = \\begin{bmatrix} 5 \\\\ 3 \\\\ 1 \\end{bmatrix}$$ | $$ output = \\begin{bmatrix} 3 \\times 5 \\\\ 2\\times3 \\\\ 1\\times0 \\end{bmatrix}= \\begin{bmatrix} 15 \\\\ 6 \\\\ 0 \\end{bmatrix} $$ |\n",
    "| <b> Vector Division </b> | $$ x = \\begin{bmatrix} 3 \\\\ 2 \\\\ 1 \\end{bmatrix} $$ | $$ y = \\begin{bmatrix} 3 \\\\ 2 \\\\ 1 \\end{bmatrix}$$ | $$ output = \\begin{bmatrix} \\frac33 \\\\ \\frac22 \\\\ \\frac11 \\end{bmatrix}= \\begin{bmatrix} 1 \\\\ 1 \\\\ 1 \\end{bmatrix} $$ |\n",
    "| <b> Scaler-Vector Operations </b> | $$ x = 2 $$ | $$ y = \\begin{bmatrix} 5 \\\\ 3 \\\\ 1 \\end{bmatrix}$$ | $$ output = \\begin{bmatrix} 2 \\times 5 \\\\ 2\\times3 \\\\ 2\\times0 \\end{bmatrix}= \\begin{bmatrix} 10 \\\\ 6 \\\\ 0 \\end{bmatrix} $$ |"
   ]
  },
  {
   "cell_type": "markdown",
   "metadata": {},
   "source": [
    "#### Vector Addition"
   ]
  },
  {
   "cell_type": "code",
   "execution_count": 10,
   "metadata": {},
   "outputs": [
    {
     "name": "stdout",
     "output_type": "stream",
     "text": [
      "[8 5 1]\n",
      "[8 5 1]\n"
     ]
    }
   ],
   "source": [
    "# create a vector or array\n",
    "x = np.array([3, 2, 1])  # Features/observation/ Multi dimentional or 2D\n",
    "y = np.array([5, 3, 0])  # Target/ Output/ Always 1D\n",
    "\n",
    "# Vector Addition\n",
    "print(x + y)\n",
    "print(np.add(x,y)) # alternative"
   ]
  },
  {
   "cell_type": "markdown",
   "metadata": {},
   "source": [
    "#### Vector Subtraction"
   ]
  },
  {
   "cell_type": "code",
   "execution_count": 12,
   "metadata": {},
   "outputs": [
    {
     "name": "stdout",
     "output_type": "stream",
     "text": [
      "[-2 -1  1]\n",
      "[-2 -1  1]\n"
     ]
    }
   ],
   "source": [
    "# create a vector or array\n",
    "x = np.array([3, 2, 1])\n",
    "y = np.array([5, 3, 0])\n",
    "\n",
    "# vector subtraction\n",
    "print(x - y)\n",
    "print(np.subtract(x, y))"
   ]
  },
  {
   "cell_type": "markdown",
   "metadata": {},
   "source": [
    "#### Vector Multiplication"
   ]
  },
  {
   "cell_type": "code",
   "execution_count": 15,
   "metadata": {},
   "outputs": [
    {
     "name": "stdout",
     "output_type": "stream",
     "text": [
      "[15  6  0]\n",
      "[15  6  0]\n"
     ]
    }
   ],
   "source": [
    "# Creating a array or vector\n",
    "x = np.array([3, 2, 1])\n",
    "y = np.array([5, 3, 0])\n",
    "\n",
    "# Vector Multiplication\n",
    "print(x * y)\n",
    "print(np.multiply(x, y))"
   ]
  },
  {
   "cell_type": "markdown",
   "metadata": {},
   "source": [
    "#### Vector Division"
   ]
  },
  {
   "cell_type": "code",
   "execution_count": 20,
   "metadata": {},
   "outputs": [
    {
     "name": "stdout",
     "output_type": "stream",
     "text": [
      "[3. 2. 2.]\n",
      "[3. 2. 2.]\n",
      "DivMode:\n",
      "(array([3, 2, 2]), array([0, 0, 0]))\n"
     ]
    }
   ],
   "source": [
    "# Creating an array or vector or var declare\n",
    "x = np.array([15, 20, 10])\n",
    "y = np.array([5, 10, 5 ])\n",
    "\n",
    "# Vector Division\n",
    "print(x / y)\n",
    "print(np.divide(x,y))\n",
    "print(\"DivMode:\")\n",
    "\n",
    "# Vector Divmod\n",
    "print(np.divmod(x,y))"
   ]
  },
  {
   "attachments": {
    "image.png": {
     "image/png": "[encoded data removed]"
    }
   },
   "cell_type": "markdown",
   "metadata": {},
   "source": [
    "![image.png](attachment:image.png)"
   ]
  },
  {
   "cell_type": "markdown",
   "metadata": {},
   "source": [
    "#### Scalar Operation"
   ]
  },
  {
   "cell_type": "code",
   "execution_count": 22,
   "metadata": {},
   "outputs": [
    {
     "data": {
      "text/plain": [
       "array([5., 6., 8.])"
      ]
     },
     "execution_count": 22,
     "metadata": {},
     "output_type": "execute_result"
    }
   ],
   "source": [
    "# Create a scalar\n",
    "x = 0.5\n",
    "# Create a vector or array\n",
    "y = np.array([10, 12, 16])\n",
    "\n",
    "# Scalar Operation\n",
    "x * y"
   ]
  },
  {
   "cell_type": "code",
   "execution_count": 23,
   "metadata": {},
   "outputs": [
    {
     "data": {
      "text/plain": [
       "array([ 5., 10., 15.])"
      ]
     },
     "execution_count": 23,
     "metadata": {},
     "output_type": "execute_result"
    }
   ],
   "source": [
    "# Create a scalar\n",
    "m = 0.5\n",
    "# Create a vector or array\n",
    "x = np.array([10, 20, 30])\n",
    "\n",
    "# Scalar Operation\n",
    "m * x"
   ]
  },
  {
   "cell_type": "markdown",
   "metadata": {},
   "source": [
    "## Matrices -\n",
    "**_*`A matrix is an m × n array of scalars from a given field F, alternatively A matrix is a collection of rows & columns. The individual values in the matrix are called entries`*_**\n",
    "****\n",
    "\n",
    "| Type | Example |\n",
    "| :---- | ---------: |\n",
    "| Square Matrix | $$  A =\\begin{bmatrix}1 & 2 & 3 \\\\4 & 5 & 6 \\\\7 & 8 & 9\\end{bmatrix}$$ |\n",
    "| Lower Triangle Matrix | $$  B =\\begin{bmatrix}1 & 0 & 0 \\\\4 & 5 & 0 \\\\7 & 8 & 9\\end{bmatrix}$$ |\n",
    "| Upper Triangle Matrix | $$  C =\\begin{bmatrix}1 & 6 & 7 \\\\0 & 5 & 8 \\\\0 & 0 & 9\\end{bmatrix}$$ |\n",
    "| Diagonal Matrix | $$  D =\\begin{bmatrix}1 & 0 & 0 \\\\0 & 5 & 0 \\\\0 & 0 & 9\\end{bmatrix}$$ |\n",
    "| Unit/Identity Matrix | $$  I =\\begin{bmatrix}1 & 0 & 0 \\\\0 & 1 & 0 \\\\0 & 0 & 1\\end{bmatrix}$$ |\n",
    "| Null or ZeroMatrix | $$  I =\\begin{bmatrix}0 & 0 & 0 \\\\0 & 0 & 0 \\\\0 & 0 & 0\\end{bmatrix}$$ |"
   ]
  }
 ],
 "metadata": {
  "kernelspec": {
   "display_name": "Python 3 (ipykernel)",
   "language": "python",
   "name": "python3"
  },
  "language_info": {
   "codemirror_mode": {
    "name": "ipython",
    "version": 3
   },
   "file_extension": ".py",
   "mimetype": "text/x-python",
   "name": "python",
   "nbconvert_exporter": "python",
   "pygments_lexer": "ipython3",
   "version": "3.11.4"
  }
 },
 "nbformat": 4,
 "nbformat_minor": 2
}
