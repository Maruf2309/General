{
  "nbformat": 4,
  "nbformat_minor": 0,
  "metadata": {
    "colab": {
      "name": "Homework1 Maruf .ipynb",
      "provenance": [],
      "collapsed_sections": []
    },
    "kernelspec": {
      "name": "python3",
      "display_name": "Python 3"
    },
    "language_info": {
      "name": "python"
    }
  },
  "cells": [
    {
      "cell_type": "markdown",
      "source": [
        "Sum of even number 1 to 10"
      ],
      "metadata": {
        "id": "R5bfflSzMDP4"
      }
    },
    {
      "cell_type": "code",
      "source": [
        "for i in range (1,11):\n",
        "  if i%2==0:\n",
        "    print(i)"
      ],
      "metadata": {
        "colab": {
          "base_uri": "https://localhost:8080/"
        },
        "id": "CED1DVkjM1MA",
        "outputId": "f6c85079-eb5f-4d93-c324-21eb66987e56"
      },
      "execution_count": null,
      "outputs": [
        {
          "output_type": "stream",
          "name": "stdout",
          "text": [
            "2\n",
            "4\n",
            "6\n",
            "8\n",
            "10\n"
          ]
        }
      ]
    },
    {
      "cell_type": "markdown",
      "source": [
        "1.2 Sum of even number 1 to 10"
      ],
      "metadata": {
        "id": "nklaUimPNvFS"
      }
    },
    {
      "cell_type": "code",
      "source": [
        "s=0\n",
        "for i in range (1,11):\n",
        "  if i%2==0:\n",
        "   s= s + i\n",
        "   print(s)"
      ],
      "metadata": {
        "colab": {
          "base_uri": "https://localhost:8080/"
        },
        "id": "4zG8bVDgNzh-",
        "outputId": "8e6ac6e6-9421-4bbc-92bb-519d6574c78a"
      },
      "execution_count": null,
      "outputs": [
        {
          "output_type": "stream",
          "name": "stdout",
          "text": [
            "2\n",
            "6\n",
            "12\n",
            "20\n",
            "30\n"
          ]
        }
      ]
    },
    {
      "cell_type": "markdown",
      "source": [
        "1.3 Sum of even number 1 to 10  ( Final Homework - indentation is fact)"
      ],
      "metadata": {
        "id": "51kY3vipOWF1"
      }
    },
    {
      "cell_type": "code",
      "source": [
        "s=0\n",
        "for i in range (1,11):\n",
        "  if i%2==0:\n",
        "   s= s + i\n",
        "print(s)"
      ],
      "metadata": {
        "colab": {
          "base_uri": "https://localhost:8080/"
        },
        "id": "pjcJN4trOYj_",
        "outputId": "b51f1a7b-8559-432f-f091-fcc98d1005d7"
      },
      "execution_count": null,
      "outputs": [
        {
          "output_type": "stream",
          "name": "stdout",
          "text": [
            "30\n"
          ]
        }
      ]
    },
    {
      "cell_type": "markdown",
      "source": [
        "1.4 Sum of odd number 1 to 10 ( Final Homework - indentation is fact)"
      ],
      "metadata": {
        "id": "ZQeTIPanYahN"
      }
    },
    {
      "cell_type": "code",
      "source": [
        "s = 0\n",
        "for i in range (1,11):\n",
        "  if i%2==1:\n",
        "    s = s +i\n",
        "\n",
        "print(i)"
      ],
      "metadata": {
        "colab": {
          "base_uri": "https://localhost:8080/"
        },
        "id": "xSJ7ZXiGYgOC",
        "outputId": "81f72663-3f97-441a-c117-48d4ad78f518"
      },
      "execution_count": null,
      "outputs": [
        {
          "output_type": "stream",
          "name": "stdout",
          "text": [
            "10\n"
          ]
        }
      ]
    },
    {
      "cell_type": "markdown",
      "source": [
        "1.3 Print the mumber 121 - 130"
      ],
      "metadata": {
        "id": "bxQFohM3PeBb"
      }
    },
    {
      "cell_type": "code",
      "source": [
        "for i in range (121,131):\n",
        "  print(i)"
      ],
      "metadata": {
        "colab": {
          "base_uri": "https://localhost:8080/"
        },
        "id": "bibulX4vQfTL",
        "outputId": "b0d6e5a7-d96e-425c-dda2-3e11c82006c9"
      },
      "execution_count": null,
      "outputs": [
        {
          "output_type": "stream",
          "name": "stdout",
          "text": [
            "121\n",
            "122\n",
            "123\n",
            "124\n",
            "125\n",
            "126\n",
            "127\n",
            "128\n",
            "129\n",
            "130\n"
          ]
        }
      ]
    },
    {
      "cell_type": "markdown",
      "source": [
        "Method: 1 Find out the smallest number from the list [ 93,11,38]"
      ],
      "metadata": {
        "id": "jVI17dmLRY4F"
      }
    },
    {
      "cell_type": "code",
      "source": [
        "mylist = [93, 11, 38]\n",
        "mylist.sort()   # shorting\n",
        "print(mylist)\n",
        "\n",
        "print('smallest element: ', mylist [0])   # in python 0 represent first elecment of a list #11\n",
        "print('largest element: ', mylist [-1])   # in python 1- represent last elecment of a list #38"
      ],
      "metadata": {
        "colab": {
          "base_uri": "https://localhost:8080/"
        },
        "id": "ILHz04kSRjkM",
        "outputId": "0e4b9219-3418-425a-d5c4-f064682e17e8"
      },
      "execution_count": null,
      "outputs": [
        {
          "output_type": "stream",
          "name": "stdout",
          "text": [
            "[11, 38, 93]\n",
            "smallest element:  11\n",
            "largest element:  93\n"
          ]
        }
      ]
    },
    {
      "cell_type": "markdown",
      "source": [
        "Method: 2 Find out the smallest number from the list ( Using Min & Max method)"
      ],
      "metadata": {
        "id": "Yaa0xWgjVWAv"
      }
    },
    {
      "cell_type": "code",
      "source": [
        "mylist = [55, 27, 25, 52, 85, 95, 32, 29]\n",
        "print('Smallest Number is: ', min(mylist))\n",
        "print ('Larget Number is: ', max(mylist))\n"
      ],
      "metadata": {
        "colab": {
          "base_uri": "https://localhost:8080/"
        },
        "id": "QED_YRSfV_Vv",
        "outputId": "9a573ab9-6c0d-46d9-94d8-72c036bf7618"
      },
      "execution_count": null,
      "outputs": [
        {
          "output_type": "stream",
          "name": "stdout",
          "text": [
            "Smallest Number is:  25\n",
            "Larget Number is:  95\n"
          ]
        }
      ]
    }
  ]
}