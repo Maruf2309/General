{
 "cells": [
  {
   "cell_type": "markdown",
   "id": "45792e0a",
   "metadata": {},
   "source": [
    "<h1> Introduction to Python 2"
   ]
  },
  {
   "cell_type": "markdown",
   "id": "35c81f14",
   "metadata": {},
   "source": [
    "- Dictionary\n",
    "- Update Dictionary\n",
    "- Dictionary in list\n",
    "- Accessing from list_dict"
   ]
  },
  {
   "cell_type": "code",
   "execution_count": 2,
   "id": "7982fca5",
   "metadata": {},
   "outputs": [
    {
     "data": {
      "text/plain": [
       "{'Name': 'Robin',\n",
       " 'Age': 34,\n",
       " 'Gender': 'Male',\n",
       " 'Married': 'True',\n",
       " 'Phone': '+02854545'}"
      ]
     },
     "execution_count": 2,
     "metadata": {},
     "output_type": "execute_result"
    }
   ],
   "source": [
    "dict = {\n",
    "    'Name':'Robin',\n",
    "    'Age':34,\n",
    "    'Gender':'Male',\n",
    "    'Married':'True',\n",
    "    'Phone':'+02854545'\n",
    "}\n",
    "dict"
   ]
  },
  {
   "cell_type": "code",
   "execution_count": 3,
   "id": "36dadfd9",
   "metadata": {},
   "outputs": [
    {
     "data": {
      "text/plain": [
       "34"
      ]
     },
     "execution_count": 3,
     "metadata": {},
     "output_type": "execute_result"
    }
   ],
   "source": [
    "dict['Age']"
   ]
  },
  {
   "cell_type": "code",
   "execution_count": 4,
   "id": "3d99eb46",
   "metadata": {},
   "outputs": [
    {
     "data": {
      "text/plain": [
       "'True'"
      ]
     },
     "execution_count": 4,
     "metadata": {},
     "output_type": "execute_result"
    }
   ],
   "source": [
    "dict['Married']"
   ]
  },
  {
   "cell_type": "code",
   "execution_count": 5,
   "id": "1b5cd4cb",
   "metadata": {},
   "outputs": [
    {
     "data": {
      "text/plain": [
       "'+02854545'"
      ]
     },
     "execution_count": 5,
     "metadata": {},
     "output_type": "execute_result"
    }
   ],
   "source": [
    "dict['Phone']"
   ]
  },
  {
   "cell_type": "code",
   "execution_count": 8,
   "id": "0f40c404",
   "metadata": {},
   "outputs": [
    {
     "data": {
      "text/plain": [
       "'Robin'"
      ]
     },
     "execution_count": 8,
     "metadata": {},
     "output_type": "execute_result"
    }
   ],
   "source": [
    "dict['Name']"
   ]
  },
  {
   "cell_type": "code",
   "execution_count": 13,
   "id": "65e4afa5",
   "metadata": {},
   "outputs": [],
   "source": [
    "# update age 34 to 25\n",
    "dict['Age'] = 25"
   ]
  },
  {
   "cell_type": "code",
   "execution_count": 12,
   "id": "74b99fd7",
   "metadata": {},
   "outputs": [
    {
     "data": {
      "text/plain": [
       "{'Name': 'Robin',\n",
       " 'Age': 25,\n",
       " 'Gender': 'Male',\n",
       " 'Married': 'True',\n",
       " 'Phone': '+02854545'}"
      ]
     },
     "execution_count": 12,
     "metadata": {},
     "output_type": "execute_result"
    }
   ],
   "source": [
    "dict"
   ]
  },
  {
   "cell_type": "code",
   "execution_count": 14,
   "id": "2f18bb8d",
   "metadata": {},
   "outputs": [
    {
     "name": "stdout",
     "output_type": "stream",
     "text": [
      "25\n"
     ]
    }
   ],
   "source": [
    "print(dict.get('Age'))  # Alternative way to print"
   ]
  },
  {
   "cell_type": "markdown",
   "id": "f1ea3d3e",
   "metadata": {},
   "source": [
    "<h2> Dictionary in list"
   ]
  },
  {
   "cell_type": "code",
   "execution_count": 16,
   "id": "3a4efe56",
   "metadata": {},
   "outputs": [],
   "source": [
    "dict_1 = {\n",
    "    'Name':'Sakila',\n",
    "    'Age' : 40,\n",
    "    'Gender': 'Female',\n",
    "    'Married':'False',\n",
    "    'Phone':'+880256555'\n",
    "}"
   ]
  },
  {
   "cell_type": "code",
   "execution_count": 17,
   "id": "d4d6ba30",
   "metadata": {},
   "outputs": [
    {
     "data": {
      "text/plain": [
       "{'Name': 'Sakila',\n",
       " 'Age': 40,\n",
       " 'Gender': 'Female',\n",
       " 'Married': 'False',\n",
       " 'Phone': '+880256555'}"
      ]
     },
     "execution_count": 17,
     "metadata": {},
     "output_type": "execute_result"
    }
   ],
   "source": [
    "dict_1"
   ]
  },
  {
   "cell_type": "code",
   "execution_count": 18,
   "id": "ff9aab57",
   "metadata": {},
   "outputs": [],
   "source": [
    "dict_2 = {\n",
    "    'Name':'Firoz',\n",
    "    'Age':20,\n",
    "    'Gender':'Male',\n",
    "    'Married':'False',\n",
    "    'Phone':'+880242121'\n",
    "}"
   ]
  },
  {
   "cell_type": "code",
   "execution_count": 19,
   "id": "c6161e08",
   "metadata": {},
   "outputs": [
    {
     "data": {
      "text/plain": [
       "{'Name': 'Firoz',\n",
       " 'Age': 20,\n",
       " 'Gender': 'Male',\n",
       " 'Married': 'False',\n",
       " 'Phone': '+880242121'}"
      ]
     },
     "execution_count": 19,
     "metadata": {},
     "output_type": "execute_result"
    }
   ],
   "source": [
    "dict_2"
   ]
  },
  {
   "cell_type": "code",
   "execution_count": 20,
   "id": "1454da24",
   "metadata": {},
   "outputs": [],
   "source": [
    "list_dict = [dict_1, dict_2]  # list making by two dictionary"
   ]
  },
  {
   "cell_type": "code",
   "execution_count": 21,
   "id": "21daa32b",
   "metadata": {},
   "outputs": [
    {
     "data": {
      "text/plain": [
       "[{'Name': 'Sakila',\n",
       "  'Age': 40,\n",
       "  'Gender': 'Female',\n",
       "  'Married': 'False',\n",
       "  'Phone': '+880256555'},\n",
       " {'Name': 'Firoz',\n",
       "  'Age': 20,\n",
       "  'Gender': 'Male',\n",
       "  'Married': 'False',\n",
       "  'Phone': '+880242121'}]"
      ]
     },
     "execution_count": 21,
     "metadata": {},
     "output_type": "execute_result"
    }
   ],
   "source": [
    "list_dict"
   ]
  },
  {
   "cell_type": "markdown",
   "id": "1ee30ac3",
   "metadata": {},
   "source": [
    "<h3> Accessing from list_dictionary"
   ]
  },
  {
   "cell_type": "code",
   "execution_count": 22,
   "id": "a6503930",
   "metadata": {},
   "outputs": [
    {
     "data": {
      "text/plain": [
       "'Female'"
      ]
     },
     "execution_count": 22,
     "metadata": {},
     "output_type": "execute_result"
    }
   ],
   "source": [
    "list_dict[0]['Gender']  # Want to access Sakila's Gender"
   ]
  },
  {
   "cell_type": "code",
   "execution_count": 23,
   "id": "538496a7",
   "metadata": {},
   "outputs": [
    {
     "data": {
      "text/plain": [
       "'+880256555'"
      ]
     },
     "execution_count": 23,
     "metadata": {},
     "output_type": "execute_result"
    }
   ],
   "source": [
    "list_dict[0]['Phone']"
   ]
  },
  {
   "cell_type": "code",
   "execution_count": 26,
   "id": "55df19c6",
   "metadata": {},
   "outputs": [
    {
     "data": {
      "text/plain": [
       "'False'"
      ]
     },
     "execution_count": 26,
     "metadata": {},
     "output_type": "execute_result"
    }
   ],
   "source": [
    "list_dict[0]['Married']"
   ]
  },
  {
   "cell_type": "code",
   "execution_count": 27,
   "id": "f5813f29",
   "metadata": {},
   "outputs": [
    {
     "data": {
      "text/plain": [
       "'Firoz'"
      ]
     },
     "execution_count": 27,
     "metadata": {},
     "output_type": "execute_result"
    }
   ],
   "source": [
    "list_dict[1]['Name'] # Want to access Firoz's name which is in 2nd dict"
   ]
  },
  {
   "cell_type": "code",
   "execution_count": 28,
   "id": "c74819e3",
   "metadata": {},
   "outputs": [
    {
     "data": {
      "text/plain": [
       "20"
      ]
     },
     "execution_count": 28,
     "metadata": {},
     "output_type": "execute_result"
    }
   ],
   "source": [
    "list_dict[1]['Age']"
   ]
  },
  {
   "cell_type": "code",
   "execution_count": 29,
   "id": "4a9eb123",
   "metadata": {},
   "outputs": [
    {
     "data": {
      "text/plain": [
       "'Male'"
      ]
     },
     "execution_count": 29,
     "metadata": {},
     "output_type": "execute_result"
    }
   ],
   "source": [
    "list_dict[1]['Gender']"
   ]
  },
  {
   "cell_type": "code",
   "execution_count": 30,
   "id": "cd9ab149",
   "metadata": {},
   "outputs": [
    {
     "data": {
      "text/plain": [
       "'False'"
      ]
     },
     "execution_count": 30,
     "metadata": {},
     "output_type": "execute_result"
    }
   ],
   "source": [
    "list_dict[1]['Married']"
   ]
  },
  {
   "cell_type": "code",
   "execution_count": 31,
   "id": "a49bcc8a",
   "metadata": {},
   "outputs": [
    {
     "data": {
      "text/plain": [
       "'+880242121'"
      ]
     },
     "execution_count": 31,
     "metadata": {},
     "output_type": "execute_result"
    }
   ],
   "source": [
    "list_dict[1]['Phone']"
   ]
  },
  {
   "cell_type": "code",
   "execution_count": null,
   "id": "53329a2c",
   "metadata": {},
   "outputs": [],
   "source": []
  }
 ],
 "metadata": {
  "kernelspec": {
   "display_name": "Python 3 (ipykernel)",
   "language": "python",
   "name": "python3"
  },
  "language_info": {
   "codemirror_mode": {
    "name": "ipython",
    "version": 3
   },
   "file_extension": ".py",
   "mimetype": "text/x-python",
   "name": "python",
   "nbconvert_exporter": "python",
   "pygments_lexer": "ipython3",
   "version": "3.9.7"
  }
 },
 "nbformat": 4,
 "nbformat_minor": 5
}
