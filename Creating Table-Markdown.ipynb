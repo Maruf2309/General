{
 "cells": [
  {
   "cell_type": "markdown",
   "id": "3a0fb17e",
   "metadata": {},
   "source": [
    "# Creating/inert Table"
   ]
  },
  {
   "cell_type": "markdown",
   "id": "06f2469a",
   "metadata": {},
   "source": [
    "- Take Markdown cell & seperate by pile operator as :\n",
    "- |Name||Age||Basic Salary|\n",
    "- |----||---||---------|"
   ]
  },
  {
   "cell_type": "markdown",
   "id": "9acd06e7",
   "metadata": {},
   "source": [
    "|Name||Age||Basic Salary|\n",
    "|----||---||-------|\n",
    "|Rahim|32||20000|\n",
    "|Ruma|25||18000|\n",
    "|Karim|27||23000|"
   ]
  }
 ],
 "metadata": {
  "kernelspec": {
   "display_name": "Python 3 (ipykernel)",
   "language": "python",
   "name": "python3"
  },
  "language_info": {
   "codemirror_mode": {
    "name": "ipython",
    "version": 3
   },
   "file_extension": ".py",
   "mimetype": "text/x-python",
   "name": "python",
   "nbconvert_exporter": "python",
   "pygments_lexer": "ipython3",
   "version": "3.9.12"
  }
 },
 "nbformat": 4,
 "nbformat_minor": 5
}
