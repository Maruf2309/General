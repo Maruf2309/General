{
 "cells": [
  {
   "cell_type": "markdown",
   "id": "c3ce4157",
   "metadata": {},
   "source": [
    "<h1> Loop"
   ]
  },
  {
   "cell_type": "markdown",
   "id": "57be1720",
   "metadata": {},
   "source": [
    "- for loop\n",
    "- print the number for a range\n",
    "- print number sequentially\n",
    "- get odd number\n",
    "- manupulating range\n",
    "- print the range in revers pattern\n",
    "- print number for a list\n",
    "- calculate sum of even number for a range\n",
    "- calculate sum of number for a range\n"
   ]
  },
  {
   "cell_type": "code",
   "execution_count": 2,
   "id": "e44b72ef",
   "metadata": {},
   "outputs": [],
   "source": [
    "number = [0,1,2,3,4,5,6,7,8,9,10,11,12,13,14]   # list, all are unique number"
   ]
  },
  {
   "cell_type": "code",
   "execution_count": 3,
   "id": "915c272a",
   "metadata": {},
   "outputs": [
    {
     "name": "stdout",
     "output_type": "stream",
     "text": [
      "0\n",
      "1\n",
      "2\n",
      "3\n",
      "4\n",
      "5\n",
      "6\n",
      "7\n",
      "8\n",
      "9\n",
      "10\n",
      "11\n",
      "12\n",
      "13\n",
      "14\n"
     ]
    }
   ],
   "source": [
    "for n in number:\n",
    "    print(n)"
   ]
  },
  {
   "cell_type": "code",
   "execution_count": 4,
   "id": "dd8fd9ad",
   "metadata": {},
   "outputs": [
    {
     "name": "stdout",
     "output_type": "stream",
     "text": [
      "0,1,2,3,4,5,6,7,8,9,10,11,12,13,14,"
     ]
    }
   ],
   "source": [
    "for n in number:\n",
    "    print(n, end=',')"
   ]
  },
  {
   "cell_type": "code",
   "execution_count": 5,
   "id": "5b541a4e",
   "metadata": {},
   "outputs": [
    {
     "name": "stdout",
     "output_type": "stream",
     "text": [
      "0-1-2-3-4-5-6-7-8-9-10-11-12-13-14-"
     ]
    }
   ],
   "source": [
    "for n in number:\n",
    "    print (n, end='-')"
   ]
  },
  {
   "cell_type": "code",
   "execution_count": 6,
   "id": "f851756c",
   "metadata": {},
   "outputs": [
    {
     "name": "stdout",
     "output_type": "stream",
     "text": [
      "0 ABC 1 ABC 2 ABC 3 ABC 4 ABC 5 ABC 6 ABC 7 ABC 8 ABC 9 ABC 10 ABC 11 ABC 12 ABC 13 ABC 14 ABC "
     ]
    }
   ],
   "source": [
    "for n in number:\n",
    "    print (n, end=' ABC ')"
   ]
  },
  {
   "cell_type": "code",
   "execution_count": 7,
   "id": "c6034ac0",
   "metadata": {},
   "outputs": [],
   "source": [
    "number_1 = [0,1,1,2,3,4,5,5,5,6,7,8,8,9,9,10,11,12,13]  # list of mix number (unique & duplicate)"
   ]
  },
  {
   "cell_type": "code",
   "execution_count": 8,
   "id": "56d739cd",
   "metadata": {},
   "outputs": [
    {
     "name": "stdout",
     "output_type": "stream",
     "text": [
      "0\n",
      "1\n",
      "1\n",
      "2\n",
      "3\n",
      "4\n",
      "5\n",
      "5\n",
      "5\n",
      "6\n",
      "7\n",
      "8\n",
      "8\n",
      "9\n",
      "9\n",
      "10\n",
      "11\n",
      "12\n",
      "13\n"
     ]
    }
   ],
   "source": [
    "for n in number_1:\n",
    "    print(n)"
   ]
  },
  {
   "cell_type": "markdown",
   "id": "6d7ad7fe",
   "metadata": {},
   "source": [
    "<h3> Print the number 121 -130 by for loop\n"
   ]
  },
  {
   "cell_type": "code",
   "execution_count": 9,
   "id": "1590e900",
   "metadata": {},
   "outputs": [
    {
     "name": "stdout",
     "output_type": "stream",
     "text": [
      "121\n",
      "122\n",
      "123\n",
      "124\n",
      "125\n",
      "126\n",
      "127\n",
      "128\n",
      "129\n",
      "130\n"
     ]
    }
   ],
   "source": [
    "for i in range (121,131):\n",
    "    print(i)"
   ]
  },
  {
   "cell_type": "markdown",
   "id": "4f16e3bb",
   "metadata": {},
   "source": [
    "### Print 1 to 10 Sequentially\n"
   ]
  },
  {
   "cell_type": "code",
   "execution_count": 10,
   "id": "3783cafb",
   "metadata": {},
   "outputs": [
    {
     "name": "stdout",
     "output_type": "stream",
     "text": [
      "1\n",
      "2\n",
      "3\n",
      "4\n",
      "5\n",
      "6\n",
      "7\n",
      "8\n",
      "9\n",
      "10\n"
     ]
    }
   ],
   "source": [
    "for i in range(1,11):\n",
    "    print(i)"
   ]
  },
  {
   "cell_type": "code",
   "execution_count": 11,
   "id": "54d0d179",
   "metadata": {},
   "outputs": [
    {
     "name": "stdout",
     "output_type": "stream",
     "text": [
      "1\n",
      "3\n",
      "5\n",
      "7\n",
      "9\n"
     ]
    }
   ],
   "source": [
    "for i in range (1,11,2):   # Get only Odd Numbers\n",
    "    print(i)"
   ]
  },
  {
   "cell_type": "code",
   "execution_count": 12,
   "id": "299753f2",
   "metadata": {},
   "outputs": [
    {
     "name": "stdout",
     "output_type": "stream",
     "text": [
      "1\n",
      "4\n",
      "7\n",
      "10\n"
     ]
    }
   ],
   "source": [
    "for i in range(1,11,3): # step size 3\n",
    "    print(i)"
   ]
  },
  {
   "cell_type": "markdown",
   "id": "67edafd4",
   "metadata": {},
   "source": [
    "### Print 1-10 sequency in reverse pattern"
   ]
  },
  {
   "cell_type": "code",
   "execution_count": 13,
   "id": "961d4f9d",
   "metadata": {},
   "outputs": [
    {
     "name": "stdout",
     "output_type": "stream",
     "text": [
      "10\n",
      "9\n",
      "8\n",
      "7\n",
      "6\n",
      "5\n",
      "4\n",
      "3\n",
      "2\n",
      "1\n"
     ]
    }
   ],
   "source": [
    "for i in range(10,0,-1):    # start:end:step size\n",
    "    print(i)"
   ]
  },
  {
   "cell_type": "code",
   "execution_count": 14,
   "id": "93c3dabe",
   "metadata": {},
   "outputs": [
    {
     "name": "stdout",
     "output_type": "stream",
     "text": [
      "10\n",
      "8\n",
      "6\n",
      "4\n"
     ]
    }
   ],
   "source": [
    "for i in range (10,2,-2):\n",
    "    print(i)"
   ]
  },
  {
   "cell_type": "code",
   "execution_count": 15,
   "id": "586c66e8",
   "metadata": {},
   "outputs": [
    {
     "name": "stdout",
     "output_type": "stream",
     "text": [
      "10\n",
      "8\n",
      "6\n",
      "4\n"
     ]
    }
   ],
   "source": [
    "for i in range (10,3,-2):\n",
    "    print(i)"
   ]
  },
  {
   "cell_type": "code",
   "execution_count": 16,
   "id": "321c3c30",
   "metadata": {},
   "outputs": [
    {
     "name": "stdout",
     "output_type": "stream",
     "text": [
      "10\n",
      "7\n",
      "4\n"
     ]
    }
   ],
   "source": [
    "for i in range (10,3,-3):\n",
    "    print(i)"
   ]
  },
  {
   "cell_type": "markdown",
   "id": "5a715c1d",
   "metadata": {},
   "source": [
    "### Printing all items in a list"
   ]
  },
  {
   "cell_type": "code",
   "execution_count": 17,
   "id": "45c81eae",
   "metadata": {},
   "outputs": [],
   "source": [
    "color = ['Red','Green','Yellow','Blue','Orange','Sky Blue']   # in list it follows indexting pattern, index start from ZERO"
   ]
  },
  {
   "cell_type": "code",
   "execution_count": 18,
   "id": "a377d8d2",
   "metadata": {},
   "outputs": [
    {
     "name": "stdout",
     "output_type": "stream",
     "text": [
      "Red\n",
      "Green\n",
      "Yellow\n",
      "Blue\n",
      "Orange\n",
      "Sky Blue\n"
     ]
    }
   ],
   "source": [
    "for i in color:\n",
    "    print(i)"
   ]
  },
  {
   "cell_type": "code",
   "execution_count": 19,
   "id": "4e08e813",
   "metadata": {},
   "outputs": [
    {
     "name": "stdout",
     "output_type": "stream",
     "text": [
      "['Red', 'Green', 'Yellow', 'Blue', 'Orange', 'Sky Blue']\n"
     ]
    }
   ],
   "source": [
    "print(color)"
   ]
  },
  {
   "cell_type": "markdown",
   "id": "497e95df",
   "metadata": {},
   "source": [
    "### Calculate Sum of Even number for 1 to 10"
   ]
  },
  {
   "cell_type": "code",
   "execution_count": 20,
   "id": "09a2df1e",
   "metadata": {},
   "outputs": [
    {
     "name": "stdout",
     "output_type": "stream",
     "text": [
      "30\n"
     ]
    }
   ],
   "source": [
    "s = 0\n",
    "for i in range(1,11):\n",
    "    if i%2 ==0:\n",
    "        s = s+i\n",
    "        \n",
    "print(s) "
   ]
  },
  {
   "cell_type": "markdown",
   "id": "c1f4b3e2",
   "metadata": {},
   "source": [
    "### Calculate sum of number 1 to 10 "
   ]
  },
  {
   "cell_type": "code",
   "execution_count": 21,
   "id": "9cec2c83",
   "metadata": {},
   "outputs": [
    {
     "name": "stdout",
     "output_type": "stream",
     "text": [
      "55\n"
     ]
    }
   ],
   "source": [
    "total = 0\n",
    "for i in range(1,11):\n",
    "    total = total+i\n",
    "    \n",
    "print(total)"
   ]
  }
 ],
 "metadata": {
  "kernelspec": {
   "display_name": "Python 3 (ipykernel)",
   "language": "python",
   "name": "python3"
  },
  "language_info": {
   "codemirror_mode": {
    "name": "ipython",
    "version": 3
   },
   "file_extension": ".py",
   "mimetype": "text/x-python",
   "name": "python",
   "nbconvert_exporter": "python",
   "pygments_lexer": "ipython3",
   "version": "3.9.7"
  }
 },
 "nbformat": 4,
 "nbformat_minor": 5
}
