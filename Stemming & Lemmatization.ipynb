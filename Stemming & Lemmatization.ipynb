{
 "cells": [
  {
   "cell_type": "code",
   "execution_count": 1,
   "id": "d03366f7",
   "metadata": {},
   "outputs": [
    {
     "name": "stdout",
     "output_type": "stream",
     "text": [
      "Requirement already satisfied: nltk in c:\\users\\maruf\\anaconda3\\lib\\site-packages (3.6.5)\n",
      "Requirement already satisfied: click in c:\\users\\maruf\\anaconda3\\lib\\site-packages (from nltk) (8.0.3)\n",
      "Requirement already satisfied: joblib in c:\\users\\maruf\\anaconda3\\lib\\site-packages (from nltk) (1.1.0)\n",
      "Requirement already satisfied: regex>=2021.8.3 in c:\\users\\maruf\\anaconda3\\lib\\site-packages (from nltk) (2021.8.3)\n",
      "Requirement already satisfied: tqdm in c:\\users\\maruf\\anaconda3\\lib\\site-packages (from nltk) (4.62.3)\n",
      "Requirement already satisfied: colorama in c:\\users\\maruf\\anaconda3\\lib\\site-packages (from click->nltk) (0.4.4)\n",
      "Note: you may need to restart the kernel to use updated packages.\n"
     ]
    }
   ],
   "source": [
    "pip install nltk"
   ]
  },
  {
   "cell_type": "code",
   "execution_count": 2,
   "id": "ec37df3b",
   "metadata": {},
   "outputs": [
    {
     "name": "stderr",
     "output_type": "stream",
     "text": [
      "[nltk_data] Downloading package punkt to\n",
      "[nltk_data]     C:\\Users\\Maruf\\AppData\\Roaming\\nltk_data...\n",
      "[nltk_data]   Package punkt is already up-to-date!\n"
     ]
    },
    {
     "data": {
      "text/plain": [
       "True"
      ]
     },
     "execution_count": 2,
     "metadata": {},
     "output_type": "execute_result"
    }
   ],
   "source": [
    "import nltk\n",
    "nltk.download('punkt')"
   ]
  },
  {
   "cell_type": "code",
   "execution_count": 3,
   "id": "beb827c7",
   "metadata": {},
   "outputs": [],
   "source": [
    "para = \"You can do this. Don’t tell people your plans. Show them your results. No pressure, no diamonds. Try Again. Fail again. Fail better.\".lower()"
   ]
  },
  {
   "cell_type": "code",
   "execution_count": 4,
   "id": "d122ea02",
   "metadata": {},
   "outputs": [
    {
     "data": {
      "text/plain": [
       "'you can do this. don’t tell people your plans. show them your results. no pressure, no diamonds. try again. fail again. fail better.'"
      ]
     },
     "execution_count": 4,
     "metadata": {},
     "output_type": "execute_result"
    }
   ],
   "source": [
    "para"
   ]
  },
  {
   "cell_type": "code",
   "execution_count": 5,
   "id": "92fa018d",
   "metadata": {},
   "outputs": [],
   "source": [
    "from nltk.tokenize import sent_tokenize\n",
    "from nltk.tokenize import word_tokenize"
   ]
  },
  {
   "cell_type": "markdown",
   "id": "5cc9fee4",
   "metadata": {},
   "source": [
    "### Sentence Tokenization"
   ]
  },
  {
   "cell_type": "code",
   "execution_count": 6,
   "id": "f67210ed",
   "metadata": {},
   "outputs": [
    {
     "data": {
      "text/plain": [
       "['you can do this.',\n",
       " 'don’t tell people your plans.',\n",
       " 'show them your results.',\n",
       " 'no pressure, no diamonds.',\n",
       " 'try again.',\n",
       " 'fail again.',\n",
       " 'fail better.']"
      ]
     },
     "execution_count": 6,
     "metadata": {},
     "output_type": "execute_result"
    }
   ],
   "source": [
    "sent_tokenize(para)"
   ]
  },
  {
   "cell_type": "markdown",
   "id": "72e991b2",
   "metadata": {},
   "source": [
    "### Word Tokenization"
   ]
  },
  {
   "cell_type": "code",
   "execution_count": 7,
   "id": "435b2a3d",
   "metadata": {},
   "outputs": [
    {
     "data": {
      "text/plain": [
       "['you',\n",
       " 'can',\n",
       " 'do',\n",
       " 'this',\n",
       " '.',\n",
       " 'don',\n",
       " '’',\n",
       " 't',\n",
       " 'tell',\n",
       " 'people',\n",
       " 'your',\n",
       " 'plans',\n",
       " '.',\n",
       " 'show',\n",
       " 'them',\n",
       " 'your',\n",
       " 'results',\n",
       " '.',\n",
       " 'no',\n",
       " 'pressure',\n",
       " ',',\n",
       " 'no',\n",
       " 'diamonds',\n",
       " '.',\n",
       " 'try',\n",
       " 'again',\n",
       " '.',\n",
       " 'fail',\n",
       " 'again',\n",
       " '.',\n",
       " 'fail',\n",
       " 'better',\n",
       " '.']"
      ]
     },
     "execution_count": 7,
     "metadata": {},
     "output_type": "execute_result"
    }
   ],
   "source": [
    "word_tokenize(para)"
   ]
  },
  {
   "cell_type": "code",
   "execution_count": 8,
   "id": "3bb443ca",
   "metadata": {},
   "outputs": [
    {
     "name": "stderr",
     "output_type": "stream",
     "text": [
      "[nltk_data] Downloading package stopwords to\n",
      "[nltk_data]     C:\\Users\\Maruf\\AppData\\Roaming\\nltk_data...\n",
      "[nltk_data]   Package stopwords is already up-to-date!\n"
     ]
    },
    {
     "data": {
      "text/plain": [
       "True"
      ]
     },
     "execution_count": 8,
     "metadata": {},
     "output_type": "execute_result"
    }
   ],
   "source": [
    "tokens = word_tokenize(para)\n",
    "nltk.download('stopwords')"
   ]
  },
  {
   "cell_type": "code",
   "execution_count": 9,
   "id": "500f642b",
   "metadata": {},
   "outputs": [],
   "source": [
    "from nltk.corpus import stopwords"
   ]
  },
  {
   "cell_type": "code",
   "execution_count": 10,
   "id": "6c60d5ba",
   "metadata": {},
   "outputs": [],
   "source": [
    "stop_words = set(stopwords.words('english'))"
   ]
  },
  {
   "cell_type": "code",
   "execution_count": 11,
   "id": "8833ec3b",
   "metadata": {},
   "outputs": [
    {
     "data": {
      "text/plain": [
       "['.',\n",
       " '’',\n",
       " 'tell',\n",
       " 'people',\n",
       " 'plans',\n",
       " '.',\n",
       " 'show',\n",
       " 'results',\n",
       " '.',\n",
       " 'pressure',\n",
       " ',',\n",
       " 'diamonds',\n",
       " '.',\n",
       " 'try',\n",
       " '.',\n",
       " 'fail',\n",
       " '.',\n",
       " 'fail',\n",
       " 'better',\n",
       " '.']"
      ]
     },
     "execution_count": 11,
     "metadata": {},
     "output_type": "execute_result"
    }
   ],
   "source": [
    "filtered_tokens = [word for word in tokens if word.casefold() not in stop_words]\n",
    "filtered_tokens"
   ]
  },
  {
   "cell_type": "markdown",
   "id": "4ac31527",
   "metadata": {},
   "source": [
    " #### Removing uncessary characters"
   ]
  },
  {
   "cell_type": "code",
   "execution_count": 12,
   "id": "b0d5735a",
   "metadata": {},
   "outputs": [
    {
     "data": {
      "text/plain": [
       "['’',\n",
       " 'tell',\n",
       " 'people',\n",
       " 'plans',\n",
       " 'show',\n",
       " 'results',\n",
       " 'pressure',\n",
       " ',',\n",
       " 'diamonds',\n",
       " 'try',\n",
       " 'fail',\n",
       " 'fail',\n",
       " 'better']"
      ]
     },
     "execution_count": 12,
     "metadata": {},
     "output_type": "execute_result"
    }
   ],
   "source": [
    "filtered_tokens = [word for word in filtered_tokens if word !='.']\n",
    "filtered_tokens"
   ]
  },
  {
   "cell_type": "markdown",
   "id": "5050c073",
   "metadata": {},
   "source": [
    "#### Removing Quation & comma"
   ]
  },
  {
   "cell_type": "code",
   "execution_count": 13,
   "id": "5b034c54",
   "metadata": {},
   "outputs": [
    {
     "data": {
      "text/plain": [
       "['tell',\n",
       " 'people',\n",
       " 'plans',\n",
       " 'show',\n",
       " 'results',\n",
       " 'pressure',\n",
       " 'diamonds',\n",
       " 'try',\n",
       " 'fail',\n",
       " 'fail',\n",
       " 'better']"
      ]
     },
     "execution_count": 13,
     "metadata": {},
     "output_type": "execute_result"
    }
   ],
   "source": [
    "filtered_tokens = [word for word in filtered_tokens if word not in \".’,\"]\n",
    "filtered_tokens              # got he actual words now"
   ]
  },
  {
   "cell_type": "markdown",
   "id": "9ed0e0c9",
   "metadata": {},
   "source": [
    "# Stemming & Lemmatization"
   ]
  },
  {
   "cell_type": "markdown",
   "id": "3f39e75f",
   "metadata": {},
   "source": [
    "### Stemming"
   ]
  },
  {
   "cell_type": "code",
   "execution_count": 14,
   "id": "57f96b91",
   "metadata": {},
   "outputs": [],
   "source": [
    "from nltk.stem import PorterStemmer"
   ]
  },
  {
   "cell_type": "code",
   "execution_count": 15,
   "id": "c3062bf8",
   "metadata": {},
   "outputs": [],
   "source": [
    "stemmer = PorterStemmer()"
   ]
  },
  {
   "cell_type": "code",
   "execution_count": 16,
   "id": "5f4ed8f6",
   "metadata": {},
   "outputs": [
    {
     "data": {
      "text/plain": [
       "['tell',\n",
       " 'peopl',\n",
       " 'plan',\n",
       " 'show',\n",
       " 'result',\n",
       " 'pressur',\n",
       " 'diamond',\n",
       " 'tri',\n",
       " 'fail',\n",
       " 'fail',\n",
       " 'better']"
      ]
     },
     "execution_count": 16,
     "metadata": {},
     "output_type": "execute_result"
    }
   ],
   "source": [
    "stemmed_token = [stemmer.stem(word) for word in filtered_tokens]\n",
    "stemmed_token"
   ]
  },
  {
   "cell_type": "markdown",
   "id": "e79a8475",
   "metadata": {},
   "source": [
    "### Lemmatization"
   ]
  },
  {
   "cell_type": "code",
   "execution_count": 17,
   "id": "a6e14a3a",
   "metadata": {},
   "outputs": [],
   "source": [
    "from nltk.stem import WordNetLemmatizer"
   ]
  },
  {
   "cell_type": "code",
   "execution_count": 18,
   "id": "34db3b83",
   "metadata": {},
   "outputs": [
    {
     "name": "stderr",
     "output_type": "stream",
     "text": [
      "[nltk_data] Downloading package wordnet to\n",
      "[nltk_data]     C:\\Users\\Maruf\\AppData\\Roaming\\nltk_data...\n",
      "[nltk_data]   Package wordnet is already up-to-date!\n"
     ]
    },
    {
     "data": {
      "text/plain": [
       "True"
      ]
     },
     "execution_count": 18,
     "metadata": {},
     "output_type": "execute_result"
    }
   ],
   "source": [
    "nltk.download('wordnet')"
   ]
  },
  {
   "cell_type": "code",
   "execution_count": 19,
   "id": "9e1d2620",
   "metadata": {},
   "outputs": [
    {
     "name": "stderr",
     "output_type": "stream",
     "text": [
      "[nltk_data] Downloading package omw-1.4 to\n",
      "[nltk_data]     C:\\Users\\Maruf\\AppData\\Roaming\\nltk_data...\n"
     ]
    },
    {
     "data": {
      "text/plain": [
       "True"
      ]
     },
     "execution_count": 19,
     "metadata": {},
     "output_type": "execute_result"
    }
   ],
   "source": [
    "nltk.download('omw-1.4')"
   ]
  },
  {
   "cell_type": "code",
   "execution_count": 20,
   "id": "78e63830",
   "metadata": {},
   "outputs": [],
   "source": [
    "lemmatizer = WordNetLemmatizer()"
   ]
  },
  {
   "cell_type": "code",
   "execution_count": 22,
   "id": "2b8032ee",
   "metadata": {},
   "outputs": [
    {
     "data": {
      "text/plain": [
       "['tell',\n",
       " 'people',\n",
       " 'plan',\n",
       " 'show',\n",
       " 'result',\n",
       " 'pressure',\n",
       " 'diamond',\n",
       " 'try',\n",
       " 'fail',\n",
       " 'fail',\n",
       " 'better']"
      ]
     },
     "execution_count": 22,
     "metadata": {},
     "output_type": "execute_result"
    }
   ],
   "source": [
    "lemmatized_token = [lemmatizer.lemmatize(word) for word in filtered_tokens]\n",
    "lemmatized_token         # now we have meaningful roote/ word representation"
   ]
  },
  {
   "cell_type": "code",
   "execution_count": null,
   "id": "1c1bf33a",
   "metadata": {},
   "outputs": [],
   "source": []
  }
 ],
 "metadata": {
  "kernelspec": {
   "display_name": "Python 3 (ipykernel)",
   "language": "python",
   "name": "python3"
  },
  "language_info": {
   "codemirror_mode": {
    "name": "ipython",
    "version": 3
   },
   "file_extension": ".py",
   "mimetype": "text/x-python",
   "name": "python",
   "nbconvert_exporter": "python",
   "pygments_lexer": "ipython3",
   "version": "3.9.7"
  }
 },
 "nbformat": 4,
 "nbformat_minor": 5
}
